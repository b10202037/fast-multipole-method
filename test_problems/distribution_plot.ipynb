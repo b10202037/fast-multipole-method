{
 "cells": [
  {
   "cell_type": "code",
   "execution_count": null,
   "id": "56e2faad",
   "metadata": {},
   "outputs": [],
   "source": [
    "import numpy as np\n",
    "import matplotlib.pyplot as plt\n",
    "from mpl_toolkits.mplot3d import Axes3D\n",
    "import os\n",
    "path = os.getcwd()\n",
    "\n",
    "def load_particles_bin(filename, n_particles):\n",
    "    with open(filename, \"rb\") as f:\n",
    "        data = np.fromfile(f, dtype=np.float64).reshape(n_particles, 7)\n",
    "    return data\n",
    "\n",
    "n_particles = int(1e6)\n",
    "filename = path + \"/generated_particles/plummer_sphere_3d_1e6.bin\"\n",
    "particles = load_particles_bin(filename, n_particles)\n",
    "x = particles[:, 1]\n",
    "y = particles[:, 2]\n",
    "z = particles[:, 3]\n",
    "print(\"Loaded\", n_particles, \"particles.\")"
   ]
  },
  {
   "cell_type": "code",
   "execution_count": null,
   "id": "9ea9eae1",
   "metadata": {},
   "outputs": [],
   "source": [
    "fig = plt.figure(figsize=(8, 6))\n",
    "ax = fig.add_subplot(111, projection='3d')\n",
    "ax.scatter(x, y, z, s=1, alpha=0.6)\n",
    "ax.set_title(\"Uniform Sphere Distribution ({} particles)\".format(n_particles))\n",
    "ax.set_xlabel(\"x\")\n",
    "ax.set_ylabel(\"y\")\n",
    "ax.set_zlabel(\"z\")\n",
    "ax.set_box_aspect([1,1,1])\n",
    "ax.set_xbound(-200, 200)\n",
    "ax.set_ybound(-200, 200)\n",
    "ax.set_zbound(-200, 200)\n",
    "plt.tight_layout()"
   ]
  }
 ],
 "metadata": {
  "kernelspec": {
   "display_name": "ASPHYS",
   "language": "python",
   "name": "python3"
  },
  "language_info": {
   "codemirror_mode": {
    "name": "ipython",
    "version": 3
   },
   "file_extension": ".py",
   "mimetype": "text/x-python",
   "name": "python",
   "nbconvert_exporter": "python",
   "pygments_lexer": "ipython3",
   "version": "3.10.16"
  }
 },
 "nbformat": 4,
 "nbformat_minor": 5
}
